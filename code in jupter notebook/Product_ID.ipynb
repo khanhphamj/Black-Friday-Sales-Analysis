{
 "cells": [
  {
   "cell_type": "code",
   "execution_count": 1,
   "id": "32148665",
   "metadata": {},
   "outputs": [],
   "source": [
    "import matplotlib\n",
    "import matplotlib.pyplot as plt\n",
    "from matplotlib.gridspec import GridSpec\n",
    "import plotly.express as px\n",
    "import ipywidgets as widgets\n",
    "from IPython.display import display, clear_output\n",
    "import datetime as dt\n",
    "import numpy as np\n",
    "import pandas as pd\n",
    "import warnings\n",
    "warnings.filterwarnings('ignore',category=FutureWarning)\n",
    "%matplotlib inline\n",
    "plt.style.use('seaborn-dark')\n",
    "df = pd.read_csv('train.csv')\n",
    "df['Gender'] = df['Gender'].replace(['F', 'M'], ['Female', 'Male'])\n",
    "df['Marital_Status'] = df['Marital_Status'].replace([0,1], ['Single', 'Married'])"
   ]
  },
  {
   "cell_type": "code",
   "execution_count": 8,
   "id": "ea64523f",
   "metadata": {},
   "outputs": [
    {
     "data": {
      "application/vnd.jupyter.widget-view+json": {
       "model_id": "6ab6e93ea57a407fab811eea597cc3e0",
       "version_major": 2,
       "version_minor": 0
      },
      "text/plain": [
       "VBox(children=(Dropdown(description='Product ID:', options=('P00000142', 'P00000242', 'P00000342', 'P00000442'…"
      ]
     },
     "metadata": {},
     "output_type": "display_data"
    }
   ],
   "source": [
    "def get_dashboard_info(product_id):\n",
    "    df_product = df[df['Product_ID'] == product_id]\n",
    "    plt.clf()\n",
    "    num_users = df_product['User_ID'].nunique()\n",
    "    total_purchase = df_product[\"Purchase\"].sum()\n",
    "    median_purchase = total_purchase/num_users\n",
    "    gender_counts = df_product.groupby('Gender')['User_ID'].nunique()\n",
    "    age_gender_counts = df_product.groupby(['Age', 'Gender'])['User_ID'].nunique().reset_index()\n",
    "    male_data = age_gender_counts[age_gender_counts['Gender'] == 'Male']\n",
    "    female_data = age_gender_counts[age_gender_counts['Gender'] == 'Female']\n",
    "    purchase_by_gender = df_product.groupby('Gender')['Purchase'].sum()\n",
    "    purchase_ratio =purchase_by_gender / total_purchase\n",
    "    sizes = purchase_by_gender.values\n",
    "    \n",
    "#-----------------------------------------------------------------------\n",
    "unique_counts = df.groupby('Product_ID')['User_ID'].nunique()\n",
    "product_dropdown = widgets.Dropdown(options=sorted(df['Product_ID'].unique()), description='Product ID:')\n",
    "output = widgets.Output()\n",
    "#------------------------------------------------------------------------\n",
    "def update_output(change):\n",
    "    with output:\n",
    "        clear_output()\n",
    "        product_id = change.new\n",
    "        df_product = df[df['Product_ID'] == product_id]\n",
    "        dashboard_info = get_dashboard_info(product_id)\n",
    "        product_category_list = []\n",
    "        product_category_list.append(f\"Product Category 1: {df_product['Product_Category_1'].iloc[0]}\")\n",
    "        if not np.isnan(df_product['Product_Category_2'].iloc[0]):\n",
    "            product_category_list.append(f\"Product Category 2: {int(df_product['Product_Category_2'].iloc[0])}\")\n",
    "        else:\n",
    "            product_category_list.append('Product Category 2: N/A')\n",
    "            \n",
    "        if not np.isnan(df_product['Product_Category_3'].iloc[0]):\n",
    "            product_category_list.append(f\"Product Category 3: {int(df_product['Product_Category_3'].iloc[0])}\")\n",
    "        else:\n",
    "            product_category_list.append('Product Category 3: N/A')\n",
    "        count = unique_counts.get(product_id, 0)\n",
    "        num_users = df_product['User_ID'].nunique()\n",
    "        total_purchase = df_product[\"Purchase\"].sum()\n",
    "        median_purchase = total_purchase/num_users\n",
    "        married_count = len(df_product[df_product['Marital_Status'] == 'Married'])\n",
    "        single_count = len(df_product[df_product['Marital_Status'] == 'Single'])\n",
    "        total_count = married_count + single_count\n",
    "        married_percent = married_count / total_count * 100\n",
    "        single_percent = single_count / total_count * 100\n",
    "        revenue = df_product['Purchase'].sum()\n",
    "        display(widgets.HTML(f\"ID Sản Phẩm: {product_id}\"))\n",
    "        display(widgets.HTML('<br>'.join(product_category_list)))\n",
    "        display(widgets.HTML(f\"{count} hóa đơn mua sản phẩm {product_id}\"))\n",
    "        display(widgets.HTML(f\"Tổng doanh thu: {revenue:,.0f} INR\"))\n",
    "        display(widgets.HTML(f\"Khách hàng đã kết hôn: {married_count} ({married_percent:.2f}%)\"))\n",
    "        display(widgets.HTML(f\"Khách hàng còn độc thân: {single_count} ({single_percent:.2f}%)\"))\n",
    "        fig, (ax1, ax2, ax3) = plt.subplots(1, 3, figsize=(20, 5))\n",
    "        age_gender_counts = df_product.groupby(['Age', 'Gender'])['User_ID'].nunique().reset_index()\n",
    "        male_data = age_gender_counts[age_gender_counts['Gender'] == 'Male']\n",
    "        female_data = age_gender_counts[age_gender_counts['Gender'] == 'Female']\n",
    "        ax1.bar(male_data['Age'], male_data['User_ID'], color='cornflowerblue',alpha = 1,label='Nam',align='edge', width=-0.4)\n",
    "        ax1.bar(female_data['Age'], female_data['User_ID'], color='orange', alpha = 1,label='Nữ',align='edge', width=0.4)\n",
    "        ax1.set_xlabel('Nhóm tuổi',fontsize = 20)\n",
    "        ax1.set_ylabel('Khách hàng',fontsize = 20)\n",
    "        ax1.legend()\n",
    "        for index, row in male_data.iterrows():\n",
    "            ax1.text(row['Age'], row['User_ID'], str(row['User_ID']), ha='right', va='bottom')\n",
    "        for index, row in female_data.iterrows():\n",
    "            ax1.text(row['Age'], row['User_ID'], str(row['User_ID']), ha='left', va='bottom')\n",
    "        gender_counts = df_product.groupby('Gender')['User_ID'].nunique()\n",
    "        colors = ['orange', 'cornflowerblue']\n",
    "        ax2.pie(gender_counts,  autopct='%1.1f%%',colors=colors, wedgeprops={'edgecolor': 'black', 'linewidth': 1})\n",
    "        ax2.set_title('Tỉ lệ giới tính',fontweight='bold')\n",
    "        purchase_by_gender = df_product.groupby('Gender')['Purchase'].sum()\n",
    "        sizes = purchase_by_gender.values\n",
    "        ax3.pie([1], radius=0.3, colors=['white'],wedgeprops={'edgecolor': 'black', 'linewidth': 1})\n",
    "        wedges, texts, autotexts = ax3.pie(sizes, colors=colors, autopct='%1.1f%%', startangle=90, pctdistance=0.85, labeldistance=1.1,\n",
    "                                   wedgeprops={'edgecolor': 'black', 'linewidth': 1})\n",
    "        centre_circle = plt.Circle((0,0),0.68,color='black', fc='white',linewidth=1.25)\n",
    "        fig.gca().add_artist(centre_circle)\n",
    "        revenue_text = 'Doanh thu trung bình theo giới tính:\\nNam: {:,.0f} INR\\nNữ: {:,.0f} INR'.format(purchase_by_gender['Male']/df['User_ID'].nunique(), purchase_by_gender['Female']/df['User_ID'].nunique())\n",
    "        plt.text(0,0,s=revenue_text, ha='center', va='center', fontsize=9.5)\n",
    "        ax3.set_title('Tỉ lệ doanh thu theo giới tính khách hàng',fontweight='bold')\n",
    "        display(fig)\n",
    "        plt.close(fig)\n",
    "#-----------------------------------------------------------------\n",
    "product_dropdown.observe(update_output, names='value')\n",
    "display(widgets.VBox([product_dropdown, output]))   "
   ]
  },
  {
   "cell_type": "code",
   "execution_count": null,
   "id": "9f751dca",
   "metadata": {},
   "outputs": [],
   "source": []
  }
 ],
 "metadata": {
  "kernelspec": {
   "display_name": "Python 3 (ipykernel)",
   "language": "python",
   "name": "python3"
  },
  "language_info": {
   "codemirror_mode": {
    "name": "ipython",
    "version": 3
   },
   "file_extension": ".py",
   "mimetype": "text/x-python",
   "name": "python",
   "nbconvert_exporter": "python",
   "pygments_lexer": "ipython3",
   "version": "3.9.13"
  }
 },
 "nbformat": 4,
 "nbformat_minor": 5
}
